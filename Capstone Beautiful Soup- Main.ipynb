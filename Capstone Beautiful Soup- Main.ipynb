{
 "cells": [
  {
   "cell_type": "markdown",
   "metadata": {},
   "source": [
    "# Capstone Webscrapping using BeautifulSoup\n",
    "\n",
    "This notebook contains guidances & tasks on the data processing for the application\n",
    "\n",
    "## Background\n",
    "\n",
    "In this project, we will try to scrape the transaction volume from one of the most well-known cryptocurrencies, namely Ethereum. Transaction volume data will be taken from the Coingecko website for two months.\n",
    "\n",
    "As additional information, at its core, Ethereum is a decentralized global software platform powered by blockchain technology. It is most commonly known for its native cryptocurrency, ether, or ETH. Ethereum can be used by anyone to create any secured digital technology. It has a token designed for use in the blockchain network, but it can also be used by participants as a method to pay for work done on the blockchain.\n",
    "\n",
    "We will use the data to create a forcasting model with the aim of predicting the volume of Ethereum transactions in the future\n",
    "\n",
    "## Requesting the Data and Creating a BeautifulSoup\n",
    "\n",
    "Let's begin with requesting the web from the site with `get` method."
   ]
  },
  {
   "cell_type": "code",
   "execution_count": 18,
   "metadata": {
    "ExecuteTime": {
     "end_time": "2020-01-13T05:12:23.275508Z",
     "start_time": "2020-01-13T05:12:20.009898Z"
    }
   },
   "outputs": [],
   "source": [
    "import requests\n",
    "\n",
    "url = 'https://www.coingecko.com/en/coins/ethereum/historical_data/?start_date=2020-01-01&end_date=2021-06-30' \n",
    "url_get = requests.get(url, headers = { 'User-Agent': 'Popular browser\\'s user-agent', })"
   ]
  },
  {
   "cell_type": "markdown",
   "metadata": {},
   "source": [
    "To visualize what exactly you get from the `request.get`, we can use .content so ee what we exactly get, in here i slice it so it won't make our screen full of the html we get from the page. You can delete the slicing if you want to see what we fully get."
   ]
  },
  {
   "cell_type": "code",
   "execution_count": 19,
   "metadata": {
    "ExecuteTime": {
     "end_time": "2020-01-13T05:12:23.290648Z",
     "start_time": "2020-01-13T05:12:23.277650Z"
    }
   },
   "outputs": [
    {
     "data": {
      "text/plain": [
       "b'!DOCTYPE html>\\n<html lang=\"en\">\\n<head>\\n<script src=\"/cdn-cgi/apps/head/gYtXOyllgyP3-Z2iKTP8rRWGBm4.js\"></script><script async defer src=\"https://www.googleoptimize.com/optimize.js?id=GTM-W3CD992\"></script>\\n<meta charset=\"utf-8\">\\n<meta http-equiv=\"X-UA-Compatible\" content=\"IE=edge\">\\n<meta name=\"viewport\" content=\"width=device-width, initial-scale=1.0\">\\n<link rel=\"shortcut icon\" href=\"/favicon.ico\">\\n<link type=\"application/opensearchdescription+xml\" rel=\"search\" href=\"/OpensearchDescription.xml\" '"
      ]
     },
     "execution_count": 19,
     "metadata": {},
     "output_type": "execute_result"
    }
   ],
   "source": [
    "url_get.content[1:500]"
   ]
  },
  {
   "cell_type": "markdown",
   "metadata": {},
   "source": [
    "As we can see we get a very unstructured and complex html, which actually contains the codes needed to show the webpages on your web browser. But we as human still confused what and where we can use that piece of code, so here where we use the beautifulsoup. Beautiful soup class will result a beautifulsoup object. Beautiful Soup transforms a complex HTML document into a complex tree of Python objects. \n",
    "\n",
    "Let's make Beautiful soup object and feel free to explore the object here."
   ]
  },
  {
   "cell_type": "code",
   "execution_count": 20,
   "metadata": {
    "ExecuteTime": {
     "end_time": "2020-01-13T05:12:23.808122Z",
     "start_time": "2020-01-13T05:12:23.292610Z"
    }
   },
   "outputs": [],
   "source": [
    "from bs4 import BeautifulSoup \n",
    "\n",
    "soup = BeautifulSoup(url_get.content,\"html.parser\")"
   ]
  },
  {
   "cell_type": "code",
   "execution_count": 21,
   "metadata": {
    "scrolled": false
   },
   "outputs": [
    {
     "name": "stdout",
     "output_type": "stream",
     "text": [
      "<class 'bs4.BeautifulSoup'>\n"
     ]
    }
   ],
   "source": [
    "print(type(soup))"
   ]
  },
  {
   "cell_type": "code",
   "execution_count": 28,
   "metadata": {},
   "outputs": [
    {
     "name": "stdout",
     "output_type": "stream",
     "text": [
      "<!DOCTYPE html>\n",
      "<html lang=\"en\">\n",
      " <head>\n",
      "  <script src=\"/cdn-cgi/apps/head/gYtXOyllgyP3-Z2iKTP8rRWGBm4.js\">\n",
      "  </script>\n",
      "  <script async=\"\" defer=\"\" src=\"https://www.googleoptimize.com/optimize.js?id=GTM-W3CD992\">\n",
      "  </script>\n",
      "  <meta charset=\"utf-8\"/>\n",
      "  <meta content=\"IE=edge\" http-equiv=\"X-UA-Compatible\"/>\n",
      "  <meta content=\"width=device-width, initial-scale=1.0\" name=\"viewport\"/>\n",
      "  <link href=\"/favicon.ico\" rel=\"shortcut icon\"/>\n",
      "  <link href=\"/OpensearchDescription.xml\" rel=\"search\" type=\"application/opensearchdescription+xml\">\n",
      "   <title>\n",
      "    Ethereum USD Historical Data | CoinGecko\n",
      "   </title>\n",
      "   <meta content=\"Get Ethereum (ETH) USD historical prices.\" name=\"description\">\n",
      "    <script>\n",
      "     (function(w,d,s,l,i){w[l]=w[l]||[];w[l].push({'gtm.start':\n",
      "  new Date().getTime(),event:'gtm.js'});var f=d.getElementsByTagName(s)[0],\n",
      "  j=d.createElement(s),dl=l!='dataLayer'?'&l='+l:'';j.async=true;j.src=\n",
      "  'https://www.googletagmanager.com/gtm.js?id='+i+dl;f.parentNode.insertBefore(j,f);\n",
      "  })(win\n"
     ]
    }
   ],
   "source": [
    "print(soup.prettify()[:1000])"
   ]
  },
  {
   "cell_type": "markdown",
   "metadata": {},
   "source": [
    "## Finding the right key to scrap the data & Extracting the right information"
   ]
  },
  {
   "cell_type": "markdown",
   "metadata": {},
   "source": [
    "Find the key and put the key into the `.find()` Put all the exploring the right key at this cell. (please change this markdown with your explanation)"
   ]
  },
  {
   "cell_type": "code",
   "execution_count": 111,
   "metadata": {
    "ExecuteTime": {
     "end_time": "2020-01-13T05:12:23.878904Z",
     "start_time": "2020-01-13T05:12:23.854974Z"
    }
   },
   "outputs": [
    {
     "name": "stdout",
     "output_type": "stream",
     "text": [
      "table class=\"table table-striped text-sm text-lg-normal\">\n",
      " <thead>\n",
      "  <tr>\n",
      "   <th class=\"text-center\">\n",
      "    Date\n",
      "   </th>\n",
      "   <th class=\"text-center\">\n",
      "    Market Cap\n",
      "   </th>\n",
      "   <th class=\"text-center\">\n",
      "    Volume\n",
      "   </th>\n",
      "   <th class=\"text-center\">\n",
      "    Open\n",
      "   </th>\n",
      "   <th class=\"text-center\">\n",
      "    Close\n",
      "   </th>\n",
      "  </tr>\n",
      " </thead>\n",
      " <tbody>\n",
      "  <tr>\n",
      "   <th class=\"font-semibold text-center\" scope=\"row\">\n",
      "    2021-06-30\n",
      "   </th>\n",
      "   <td class=\"text-center\">\n",
      "    $253,607,549,372\n",
      "   </td>\n",
      "   <td class=\"text-center\">\n",
      "    $27,149,143,847\n",
      "   </td>\n",
      "   <td class=\"text-center\">\n",
      "    $2,169.40\n",
      "   </td>\n",
      "   <td class=\"text-center\">\n",
      "    N/A\n",
      "   </td>\n",
      "  </tr>\n",
      "  <tr>\n",
      "   <th class=\"font-semibold text-center\" scope=\"row\">\n",
      "    2021-06-29\n",
      "   </th>\n",
      "   <td class=\"text-center\">\n",
      "    $243,040,539,437\n",
      "   </td>\n",
      "   <td class=\"text-center\">\n",
      "    $30,629,329,806\n",
      "   </td>\n",
      "   <td class=\"text-center\">\n",
      "    $2,087.52\n",
      "   </td>\n",
      "   <td class=\"text-center\">\n",
      "    $2,169.40\n",
      "   </td>\n",
      "  </tr>\n",
      "  <tr>\n",
      "   <th class=\"font-semibold text-center\" scope=\"row\">\n",
      "    2021-06-28\n",
      "   </th>\n",
      "   <td class=\"text-center\">\n",
      "    $229,354,016,311\n",
      "   </td>\n",
      "   <td class=\"text-center\">\n",
      "    $24,316,408,028\n",
      "   </td>\n",
      "   <td class=\"text-center\">\n",
      "    $1,973.93\n",
      "   </td>\n",
      "   <td class=\"text-center\">\n",
      "    $2,087.52\n",
      "   </td>\n",
      "  </tr>\n",
      "  <tr>\n",
      "   <th class=\"font-semibold text-center\" scope=\"row\">\n",
      "    2021-06-27\n",
      "   </th>\n",
      "   <td class=\"text-center\">\n",
      "    $209,989,265,221\n",
      "   </td>\n",
      "   <td class=\"text-center\">\n",
      "    $24,249,510,321\n",
      "   </td>\n",
      "   <td class=\"text-center\">\n",
      "    $1,\n"
     ]
    }
   ],
   "source": [
    "table = soup.find('table', attrs={'class':'table table-striped text-sm text-lg-normal'})\n",
    "print(table.prettify()[1:1500])"
   ]
  },
  {
   "cell_type": "markdown",
   "metadata": {},
   "source": [
    "Finding row length."
   ]
  },
  {
   "cell_type": "code",
   "execution_count": 46,
   "metadata": {
    "scrolled": true
   },
   "outputs": [
    {
     "data": {
      "text/plain": [
       "60"
      ]
     },
     "execution_count": 46,
     "metadata": {},
     "output_type": "execute_result"
    }
   ],
   "source": [
    "row = table.find_all('th', attrs={'class':'font-semibold text-center'})\n",
    "row_length = len(row)\n",
    "row_length"
   ]
  },
  {
   "cell_type": "markdown",
   "metadata": {},
   "source": [
    "**The number of rows of data that we take is 60 rows**"
   ]
  },
  {
   "cell_type": "markdown",
   "metadata": {},
   "source": [
    "Do the scrapping process here (please change this markdown with your explanation)"
   ]
  },
  {
   "cell_type": "code",
   "execution_count": 193,
   "metadata": {
    "ExecuteTime": {
     "end_time": "2020-01-13T05:12:24.008256Z",
     "start_time": "2020-01-13T05:12:23.980358Z"
    }
   },
   "outputs": [
    {
     "data": {
      "text/plain": [
       "[('2021-06-29', '\\n $27,149,143,847\\n'),\n",
       " ('2021-06-28', '\\n$30,629,329,806\\n'),\n",
       " ('2021-06-27', '\\n$24,316,408,028\\n'),\n",
       " ('2021-06-26', '\\n$24,249,510,321\\n'),\n",
       " ('2021-06-25', '\\n$25,981,381,067\\n'),\n",
       " ('2021-06-24', '\\n$22,447,489,242\\n'),\n",
       " ('2021-06-23', '\\n$28,098,744,045\\n'),\n",
       " ('2021-06-22', '\\n$38,755,019,937\\n'),\n",
       " ('2021-06-21', '\\n$39,499,960,408\\n'),\n",
       " ('2021-06-20', '\\n$26,235,850,447\\n'),\n",
       " ('2021-06-19', '\\n$20,456,963,375\\n'),\n",
       " ('2021-06-18', '\\n$26,204,484,921\\n'),\n",
       " ('2021-06-17', '\\n$25,708,624,827\\n'),\n",
       " ('2021-06-16', '\\n$26,150,320,395\\n'),\n",
       " ('2021-06-15', '\\n$26,803,957,680\\n'),\n",
       " ('2021-06-14', '\\n$28,128,172,338\\n'),\n",
       " ('2021-06-13', '\\n$29,382,118,964\\n'),\n",
       " ('2021-06-12', '\\n$28,235,882,062\\n'),\n",
       " ('2021-06-11', '\\n$26,751,786,966\\n'),\n",
       " ('2021-06-10', '\\n$33,075,957,437\\n'),\n",
       " ('2021-06-09', '\\n$43,973,432,438\\n'),\n",
       " ('2021-06-08', '\\n$48,344,195,674\\n'),\n",
       " ('2021-06-07', '\\n$37,385,872,210\\n'),\n",
       " ('2021-06-06', '\\n$29,050,162,249\\n'),\n",
       " ('2021-06-05', '\\n$34,731,979,705\\n'),\n",
       " ('2021-06-04', '\\n$39,996,583,175\\n'),\n",
       " ('2021-06-03', '\\n$38,104,663,185\\n'),\n",
       " ('2021-06-02', '\\n$39,148,856,525\\n'),\n",
       " ('2021-06-01', '\\n$39,898,648,753\\n '),\n",
       " ('2021-05-31', '\\n$44,445,830,388\\n'),\n",
       " ('2021-05-30', '\\n$37,392,021,394\\n'),\n",
       " ('2021-05-29', '\\n$47,141,249,182\\n'),\n",
       " ('2021-05-28', '\\n$49,493,519,120\\n'),\n",
       " ('2021-05-27', '\\n$44,070,236,220\\n'),\n",
       " ('2021-05-26', '\\n$53,115,222,705\\n'),\n",
       " ('2021-05-25', '\\n$92,468,701,274\\n'),\n",
       " ('2021-05-24', '\\n$73,496,058,831\\n'),\n",
       " ('2021-05-23', '\\n$77,839,858,614\\n'),\n",
       " ('2021-05-22', '\\n$102,524,751,568\\n'),\n",
       " ('2021-05-21', '\\n$115,000,901,892\\n'),\n",
       " ('2021-05-20', '\\n$92,538,167,828\\n'),\n",
       " ('2021-05-19', '\\n$117,905,041,184\\n'),\n",
       " ('2021-05-18', '\\n$59,160,464,538\\n'),\n",
       " ('2021-05-17', '\\n$75,100,584,776\\n'),\n",
       " ('2021-05-16', '\\n$67,531,308,124\\n'),\n",
       " ('2021-05-15', '\\n$58,150,860,876\\n'),\n",
       " ('2021-05-14', '\\n$63,587,729,060\\n'),\n",
       " ('2021-05-13', '\\n$97,383,442,023\\n'),\n",
       " ('2021-05-12', '\\n$78,772,032,255\\n'),\n",
       " ('2021-05-11', '\\n$67,869,198,116\\n'),\n",
       " ('2021-05-10', '\\n$80,827,215,918\\n'),\n",
       " ('2021-05-09', '\\n$61,625,657,297\\n'),\n",
       " ('2021-05-08', '\\n$60,174,921,874\\n'),\n",
       " ('2021-05-07', '\\n$44,980,768,421\\n'),\n",
       " ('2021-05-06', '\\n$50,430,169,753\\n'),\n",
       " ('2021-05-05', '\\n$63,552,342,594\\n'),\n",
       " ('2021-05-04', '\\n$78,437,235,046\\n'),\n",
       " ('2021-05-03', '\\n$64,192,650,586\\n'),\n",
       " ('2021-05-02', '\\n$35,727,432,416\\n')]"
      ]
     },
     "execution_count": 193,
     "metadata": {},
     "output_type": "execute_result"
    }
   ],
   "source": [
    "#scrapping process\n",
    "\n",
    "temp = [] #initiating a tuple\n",
    "# get date\n",
    "for i in range(1, row_length):\n",
    "    date = table.find_all('th', attrs={'class':'font-semibold text-center'})[i].text\n",
    "    temp.append(date)\n",
    "\n",
    "vol = [] # initiating a tuple\n",
    "# get volume\n",
    "code = table.find_all('td', attrs={'class':'text-center'})\n",
    "jump = row_length * 4\n",
    "for i in range(2,jump,4):\n",
    "    vol.append(code[:i][i-1].text)    \n",
    "\n",
    "data_tuples = list(zip(temp,vol))\n",
    "data_tuples"
   ]
  },
  {
   "cell_type": "code",
   "execution_count": 194,
   "metadata": {},
   "outputs": [
    {
     "data": {
      "text/plain": [
       "[('2021-05-02', '\\n$35,727,432,416\\n'),\n",
       " ('2021-05-03', '\\n$64,192,650,586\\n'),\n",
       " ('2021-05-04', '\\n$78,437,235,046\\n'),\n",
       " ('2021-05-05', '\\n$63,552,342,594\\n'),\n",
       " ('2021-05-06', '\\n$50,430,169,753\\n'),\n",
       " ('2021-05-07', '\\n$44,980,768,421\\n'),\n",
       " ('2021-05-08', '\\n$60,174,921,874\\n'),\n",
       " ('2021-05-09', '\\n$61,625,657,297\\n'),\n",
       " ('2021-05-10', '\\n$80,827,215,918\\n'),\n",
       " ('2021-05-11', '\\n$67,869,198,116\\n'),\n",
       " ('2021-05-12', '\\n$78,772,032,255\\n'),\n",
       " ('2021-05-13', '\\n$97,383,442,023\\n'),\n",
       " ('2021-05-14', '\\n$63,587,729,060\\n'),\n",
       " ('2021-05-15', '\\n$58,150,860,876\\n'),\n",
       " ('2021-05-16', '\\n$67,531,308,124\\n'),\n",
       " ('2021-05-17', '\\n$75,100,584,776\\n'),\n",
       " ('2021-05-18', '\\n$59,160,464,538\\n'),\n",
       " ('2021-05-19', '\\n$117,905,041,184\\n'),\n",
       " ('2021-05-20', '\\n$92,538,167,828\\n'),\n",
       " ('2021-05-21', '\\n$115,000,901,892\\n'),\n",
       " ('2021-05-22', '\\n$102,524,751,568\\n'),\n",
       " ('2021-05-23', '\\n$77,839,858,614\\n'),\n",
       " ('2021-05-24', '\\n$73,496,058,831\\n'),\n",
       " ('2021-05-25', '\\n$92,468,701,274\\n'),\n",
       " ('2021-05-26', '\\n$53,115,222,705\\n'),\n",
       " ('2021-05-27', '\\n$44,070,236,220\\n'),\n",
       " ('2021-05-28', '\\n$49,493,519,120\\n'),\n",
       " ('2021-05-29', '\\n$47,141,249,182\\n'),\n",
       " ('2021-05-30', '\\n$37,392,021,394\\n'),\n",
       " ('2021-05-31', '\\n$44,445,830,388\\n'),\n",
       " ('2021-06-01', '\\n$39,898,648,753\\n '),\n",
       " ('2021-06-02', '\\n$39,148,856,525\\n'),\n",
       " ('2021-06-03', '\\n$38,104,663,185\\n'),\n",
       " ('2021-06-04', '\\n$39,996,583,175\\n'),\n",
       " ('2021-06-05', '\\n$34,731,979,705\\n'),\n",
       " ('2021-06-06', '\\n$29,050,162,249\\n'),\n",
       " ('2021-06-07', '\\n$37,385,872,210\\n'),\n",
       " ('2021-06-08', '\\n$48,344,195,674\\n'),\n",
       " ('2021-06-09', '\\n$43,973,432,438\\n'),\n",
       " ('2021-06-10', '\\n$33,075,957,437\\n'),\n",
       " ('2021-06-11', '\\n$26,751,786,966\\n'),\n",
       " ('2021-06-12', '\\n$28,235,882,062\\n'),\n",
       " ('2021-06-13', '\\n$29,382,118,964\\n'),\n",
       " ('2021-06-14', '\\n$28,128,172,338\\n'),\n",
       " ('2021-06-15', '\\n$26,803,957,680\\n'),\n",
       " ('2021-06-16', '\\n$26,150,320,395\\n'),\n",
       " ('2021-06-17', '\\n$25,708,624,827\\n'),\n",
       " ('2021-06-18', '\\n$26,204,484,921\\n'),\n",
       " ('2021-06-19', '\\n$20,456,963,375\\n'),\n",
       " ('2021-06-20', '\\n$26,235,850,447\\n'),\n",
       " ('2021-06-21', '\\n$39,499,960,408\\n'),\n",
       " ('2021-06-22', '\\n$38,755,019,937\\n'),\n",
       " ('2021-06-23', '\\n$28,098,744,045\\n'),\n",
       " ('2021-06-24', '\\n$22,447,489,242\\n'),\n",
       " ('2021-06-25', '\\n$25,981,381,067\\n'),\n",
       " ('2021-06-26', '\\n$24,249,510,321\\n'),\n",
       " ('2021-06-27', '\\n$24,316,408,028\\n'),\n",
       " ('2021-06-28', '\\n$30,629,329,806\\n'),\n",
       " ('2021-06-29', '\\n $27,149,143,847\\n')]"
      ]
     },
     "execution_count": 194,
     "metadata": {},
     "output_type": "execute_result"
    }
   ],
   "source": [
    "data_tuples = data_tuples[::-1]\n",
    "data_tuples"
   ]
  },
  {
   "cell_type": "markdown",
   "metadata": {},
   "source": [
    "## Creating data frame & Data wrangling"
   ]
  },
  {
   "cell_type": "markdown",
   "metadata": {},
   "source": [
    "Put the array into dataframe"
   ]
  },
  {
   "cell_type": "code",
   "execution_count": 259,
   "metadata": {
    "ExecuteTime": {
     "end_time": "2020-01-13T05:12:41.517372Z",
     "start_time": "2020-01-13T05:12:29.130015Z"
    },
    "scrolled": true
   },
   "outputs": [
    {
     "data": {
      "text/html": [
       "<div>\n",
       "<style scoped>\n",
       "    .dataframe tbody tr th:only-of-type {\n",
       "        vertical-align: middle;\n",
       "    }\n",
       "\n",
       "    .dataframe tbody tr th {\n",
       "        vertical-align: top;\n",
       "    }\n",
       "\n",
       "    .dataframe thead th {\n",
       "        text-align: right;\n",
       "    }\n",
       "</style>\n",
       "<table border=\"1\" class=\"dataframe\">\n",
       "  <thead>\n",
       "    <tr style=\"text-align: right;\">\n",
       "      <th></th>\n",
       "      <th>Date</th>\n",
       "      <th>Volume</th>\n",
       "    </tr>\n",
       "  </thead>\n",
       "  <tbody>\n",
       "    <tr>\n",
       "      <th>0</th>\n",
       "      <td>2021-05-02</td>\n",
       "      <td>\\n$35,727,432,416\\n</td>\n",
       "    </tr>\n",
       "    <tr>\n",
       "      <th>1</th>\n",
       "      <td>2021-05-03</td>\n",
       "      <td>\\n$64,192,650,586\\n</td>\n",
       "    </tr>\n",
       "    <tr>\n",
       "      <th>2</th>\n",
       "      <td>2021-05-04</td>\n",
       "      <td>\\n$78,437,235,046\\n</td>\n",
       "    </tr>\n",
       "    <tr>\n",
       "      <th>3</th>\n",
       "      <td>2021-05-05</td>\n",
       "      <td>\\n$63,552,342,594\\n</td>\n",
       "    </tr>\n",
       "    <tr>\n",
       "      <th>4</th>\n",
       "      <td>2021-05-06</td>\n",
       "      <td>\\n$50,430,169,753\\n</td>\n",
       "    </tr>\n",
       "  </tbody>\n",
       "</table>\n",
       "</div>"
      ],
      "text/plain": [
       "         Date               Volume\n",
       "0  2021-05-02  \\n$35,727,432,416\\n\n",
       "1  2021-05-03  \\n$64,192,650,586\\n\n",
       "2  2021-05-04  \\n$78,437,235,046\\n\n",
       "3  2021-05-05  \\n$63,552,342,594\\n\n",
       "4  2021-05-06  \\n$50,430,169,753\\n"
      ]
     },
     "execution_count": 259,
     "metadata": {},
     "output_type": "execute_result"
    }
   ],
   "source": [
    "import pandas as pd\n",
    "\n",
    "df = pd.DataFrame(data_tuples, columns = ('Date','Volume'))\n",
    "df.head()"
   ]
  },
  {
   "cell_type": "markdown",
   "metadata": {},
   "source": [
    "Do the data cleaning here (please change this markdown with your explanation of what you do for data wrangling)"
   ]
  },
  {
   "cell_type": "code",
   "execution_count": 260,
   "metadata": {
    "ExecuteTime": {
     "end_time": "2020-01-13T05:12:59.165559Z",
     "start_time": "2020-01-13T05:12:58.910012Z"
    },
    "scrolled": false
   },
   "outputs": [
    {
     "data": {
      "text/html": [
       "<div>\n",
       "<style scoped>\n",
       "    .dataframe tbody tr th:only-of-type {\n",
       "        vertical-align: middle;\n",
       "    }\n",
       "\n",
       "    .dataframe tbody tr th {\n",
       "        vertical-align: top;\n",
       "    }\n",
       "\n",
       "    .dataframe thead th {\n",
       "        text-align: right;\n",
       "    }\n",
       "</style>\n",
       "<table border=\"1\" class=\"dataframe\">\n",
       "  <thead>\n",
       "    <tr style=\"text-align: right;\">\n",
       "      <th></th>\n",
       "      <th>Date</th>\n",
       "      <th>Volume</th>\n",
       "    </tr>\n",
       "  </thead>\n",
       "  <tbody>\n",
       "    <tr>\n",
       "      <th>54</th>\n",
       "      <td>2021-06-25</td>\n",
       "      <td>25981381067</td>\n",
       "    </tr>\n",
       "    <tr>\n",
       "      <th>55</th>\n",
       "      <td>2021-06-26</td>\n",
       "      <td>24249510321</td>\n",
       "    </tr>\n",
       "    <tr>\n",
       "      <th>56</th>\n",
       "      <td>2021-06-27</td>\n",
       "      <td>24316408028</td>\n",
       "    </tr>\n",
       "    <tr>\n",
       "      <th>57</th>\n",
       "      <td>2021-06-28</td>\n",
       "      <td>30629329806</td>\n",
       "    </tr>\n",
       "    <tr>\n",
       "      <th>58</th>\n",
       "      <td>2021-06-29</td>\n",
       "      <td>27149143847</td>\n",
       "    </tr>\n",
       "  </tbody>\n",
       "</table>\n",
       "</div>"
      ],
      "text/plain": [
       "          Date       Volume\n",
       "54  2021-06-25  25981381067\n",
       "55  2021-06-26  24249510321\n",
       "56  2021-06-27  24316408028\n",
       "57  2021-06-28  30629329806\n",
       "58  2021-06-29  27149143847"
      ]
     },
     "execution_count": 260,
     "metadata": {},
     "output_type": "execute_result"
    }
   ],
   "source": [
    "import re\n",
    "# We should remove special character from data Volume\n",
    "df['Volume'] = df['Volume'].map(lambda x: re.sub(r'\\W+', '', x))\n",
    "df['Volume'] = df['Volume'].str.replace(\",\",\"\") # remove comma\n",
    "df['Volume'] = df['Volume'].str.replace(\"\\n\",\"\") # remove another not omportant character\n",
    "df['Volume'] = df['Volume'].str.strip() # remove whitespace\n",
    "\n",
    "df.tail()"
   ]
  },
  {
   "cell_type": "markdown",
   "metadata": {},
   "source": [
    "**Our data is clean and ready to be given the appropriate data type**"
   ]
  },
  {
   "cell_type": "code",
   "execution_count": 261,
   "metadata": {},
   "outputs": [
    {
     "data": {
      "text/plain": [
       "Date      datetime64[ns]\n",
       "Volume             int64\n",
       "dtype: object"
      ]
     },
     "execution_count": 261,
     "metadata": {},
     "output_type": "execute_result"
    }
   ],
   "source": [
    "df['Volume'] = df['Volume'].astype('int64') # integer to volume\n",
    "df[\"Date\"] = pd.to_datetime(df[\"Date\"]) # datetime to date\n",
    "df.dtypes"
   ]
  },
  {
   "cell_type": "markdown",
   "metadata": {},
   "source": [
    "Data visualisation"
   ]
  },
  {
   "cell_type": "markdown",
   "metadata": {},
   "source": [
    "To make our plot behave like we want, we need to set our index of our dataframe to our time coloumn. We can use set_index()"
   ]
  },
  {
   "cell_type": "code",
   "execution_count": 268,
   "metadata": {},
   "outputs": [],
   "source": [
    "df = df.set_index('Date') # set Date become index"
   ]
  },
  {
   "cell_type": "code",
   "execution_count": 269,
   "metadata": {
    "scrolled": true
   },
   "outputs": [
    {
     "data": {
      "text/plain": [
       "<AxesSubplot:xlabel='Date'>"
      ]
     },
     "execution_count": 269,
     "metadata": {},
     "output_type": "execute_result"
    },
    {
     "data": {
      "image/png": "[encoded data removed]",
      "text/plain": [
       "<Figure size 432x288 with 1 Axes>"
      ]
     },
     "metadata": {
      "needs_background": "light"
     },
     "output_type": "display_data"
    }
   ],
   "source": [
    "df.plot() # plot line chart"
   ]
  },
  {
   "cell_type": "markdown",
   "metadata": {},
   "source": [
    "Plot that might be more pleasing to the eye :)"
   ]
  },
  {
   "cell_type": "code",
   "execution_count": 265,
   "metadata": {},
   "outputs": [],
   "source": [
    "date = df[\"Date\"]\n",
    "value = df[\"Volume\"]"
   ]
  },
  {
   "cell_type": "code",
   "execution_count": 267,
   "metadata": {
    "scrolled": false
   },
   "outputs": [
    {
     "data": {
      "image/png": "[encoded data removed]",
      "text/plain": [
       "<Figure size 576x432 with 1 Axes>"
      ]
     },
     "metadata": {
      "needs_background": "light"
     },
     "output_type": "display_data"
    }
   ],
   "source": [
    "import matplotlib.dates as mdates\n",
    "fig, ax = plt.subplots(figsize=(8, 6))\n",
    "\n",
    "day_locator = mdates.DayLocator(interval=7)\n",
    "year_month_formatter = mdates.DateFormatter(\"%Y-%m-%d\") \n",
    "\n",
    "ax.xaxis.set_major_locator(day_locator)\n",
    "ax.xaxis.set_major_formatter(year_month_formatter)\n",
    "ax.plot(date, value)\n",
    "\n",
    "# Rotates and right aligns the x labels. \n",
    "# Also moves the bottom of the axes up to make room for them.\n",
    "fig.autofmt_xdate()"
   ]
  },
  {
   "cell_type": "markdown",
   "metadata": {},
   "source": [
    "### Implementing your webscrapping to the flask dashboard\n",
    "\n",
    "- Copy paste all of your web scrapping process to the desired position on the `app.py`\n",
    "- Changing the title of the dasboard at `index.html`"
   ]
  },
  {
   "cell_type": "markdown",
   "metadata": {},
   "source": [
    "## Finishing This Notebook with Your Analysis and Conclusion\n",
    "\n",
    "First you can do start with making the data visualisation. "
   ]
  },
  {
   "cell_type": "markdown",
   "metadata": {},
   "source": [
    "**Based on the plot we have produced above. It can be concluded that Ethereum transaction volume during the last month dropped drastically from the previous month, this may be due to news that gave negative sentiment to the market.**"
   ]
  },
  {
   "cell_type": "markdown",
   "metadata": {},
   "source": [
    "### Extra Challange\n",
    "\n",
    "This will be not included to the scoring. \n",
    "\n",
    "- You can create additional analysis from the data.\n",
    "- Implement it to the dashboard with at `app.py` dan `index.html`."
   ]
  }
 ],
 "metadata": {
  "kernelspec": {
   "display_name": "web_scraping",
   "language": "python",
   "name": "web_scraping"
  },
  "language_info": {
   "codemirror_mode": {
    "name": "ipython",
    "version": 3
   },
   "file_extension": ".py",
   "mimetype": "text/x-python",
   "name": "python",
   "nbconvert_exporter": "python",
   "pygments_lexer": "ipython3",
   "version": "3.8.13"
  },
  "toc": {
   "base_numbering": 1,
   "nav_menu": {},
   "number_sections": true,
   "sideBar": true,
   "skip_h1_title": false,
   "title_cell": "Table of Contents",
   "title_sidebar": "Contents",
   "toc_cell": false,
   "toc_position": {},
   "toc_section_display": true,
   "toc_window_display": false
  }
 },
 "nbformat": 4,
 "nbformat_minor": 2
}
